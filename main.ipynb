{
 "cells": [
  {
   "cell_type": "code",
   "execution_count": 1,
   "metadata": {},
   "outputs": [],
   "source": [
    "import semantic_kernel as sk\n",
    "import semantic_kernel.connectors.ai.open_ai as sk_oai\n",
    "# from semantic_kernel.prompt_template.input_variable import InputVariable \n",
    "from dotenv import dotenv_values\n",
    "config = dotenv_values(\".env\")\n",
    "kernel = sk.Kernel()\n"
   ]
  },
  {
   "cell_type": "code",
   "execution_count": 2,
   "metadata": {},
   "outputs": [],
   "source": [
    "from semantic_kernel.connectors.ai.open_ai import AzureChatCompletion\n",
    "kernel.add_service(\n",
    "AzureChatCompletion(\n",
    "service_id=\"azure-completion\",\n",
    "deployment_name = config[ \"AZURE_OPENAI_DEPLOYMENT\"],\n",
    "endpoint = config[\"AZURE_OPENAI_ENDPOINT\"],\n",
    "# api_version = config[\"AZURE_API_VERSION\"],\n",
    "api_key= config[\"AZURE_OPENAI_API_KEY\"])\n",
    ")"
   ]
  },
  {
   "cell_type": "code",
   "execution_count": 3,
   "metadata": {},
   "outputs": [],
   "source": [
    "from semantic_kernel.prompt_template import PromptTemplateConfig, InputVariable\n",
    "from semantic_kernel.functions import KernelFunctionFromPrompt\n",
    "\n",
    "prompt=\"Summarize the given content in 50-70 words - {{$input}}\" \n",
    "execution_settings= sk_oai.OpenAITextPromptExecutionSettings(\n",
    "service_id=\"azure-completion\",\n",
    "max_tokens = 500\n",
    ")\n",
    "\n",
    "\n",
    "prompt_template = PromptTemplateConfig(\n",
    "    template=prompt,\n",
    "    name=\"summarize\",\n",
    "    template_format=\"semantic-kernel\",\n",
    "    input_variables=[\n",
    "        InputVariable(name=\"input\", description=\"The user input\", is_required=True),\n",
    "    ],\n",
    "    execution_settings=execution_settings,\n",
    ")\n",
    "\n",
    "\n",
    "\n",
    "summarize = KernelFunctionFromPrompt(\n",
    "    plugin_name=\"SummarizerPlugin\",\n",
    "    function_name=\"Summarizer\",\n",
    "    prompt_template_config=prompt_template,\n",
    ")\n"
   ]
  },
  {
   "cell_type": "code",
   "execution_count": 4,
   "metadata": {},
   "outputs": [
    {
     "name": "stdout",
     "output_type": "stream",
     "text": [
      "In a quiet city corner stood Timeless Tales, an old bookstore with a wooden sign and a soft jingling bell. Mr. Kapoor, the owner, welcomed visitors warmly while sipping chai. One rainy evening, a young girl named Anaya found refuge there, returning daily until she eventually took over from the aging Mr. Kapoor. Under Anaya, the store remained a haven for lost travelers and curious dreamers.\n"
     ]
    }
   ],
   "source": [
    "input_text = \"\"\"In a quiet corner of the city, tucked between towering buildings, stood an old bookstore named Timeless Tales. Unlike the modern shops with bright lights and digital billboards, this store had a wooden sign, faded lettering, and a bell that jingled softly whenever someone entered.\n",
    "\n",
    "For years, Mr. Kapoor, the owner, sat behind the counter, sipping chai and greeting every visitor with a warm smile. The store was more than a business—it was a home for forgotten stories, lost travelers, and curious dreamers.\n",
    "\n",
    "One rainy evening, a young girl named Anaya stepped inside, shaking off her umbrella. She had been wandering the streets, looking for shelter, when she saw the warm glow of the store.\n",
    "\n",
    "\"Come in, child,\" Mr. Kapoor said kindly. \"Looking for something special?\"\n",
    "\n",
    "\"I'm not sure,\" she replied. \"Maybe just a place to sit?\"\n",
    "\n",
    "He nodded and pointed to a cozy corner filled with cushions. She picked up a book, and before she knew it, hours had passed. She returned the next day. And the next. Soon, Timeless Tales became her refuge.\n",
    "\n",
    "Years later, when Mr. Kapoor grew old and frail, Anaya was the one who took over. She never changed the sign, never closed the doors. The little bookstore remained, just as it always had—open to anyone searching for a story or a home.\n",
    "\n",
    "And so, Timeless Tales never truly closed. It simply found new keepers, one reader at a time.\"\"\"\n",
    "\n",
    "# summary = await kernel.invoke(summarize, sk.KernelArguments(input=input_text))\n",
    "summary = await kernel.invoke(summarize, input=input_text)\n",
    "\n",
    "\n",
    "print(summary)\n"
   ]
  }
 ],
 "metadata": {
  "kernelspec": {
   "display_name": "venv",
   "language": "python",
   "name": "python3"
  },
  "language_info": {
   "codemirror_mode": {
    "name": "ipython",
    "version": 3
   },
   "file_extension": ".py",
   "mimetype": "text/x-python",
   "name": "python",
   "nbconvert_exporter": "python",
   "pygments_lexer": "ipython3",
   "version": "3.12.0"
  }
 },
 "nbformat": 4,
 "nbformat_minor": 2
}
